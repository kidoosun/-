{
 "cells": [
  {
   "cell_type": "markdown",
   "id": "62d46be7-a0c4-471d-ab13-69ebdfaa6b5d",
   "metadata": {},
   "source": [
    "# Search Engine for Docs"
   ]
  },
  {
   "cell_type": "markdown",
   "id": "a946b6a9-6698-46ae-8365-10fe26475e37",
   "metadata": {},
   "source": [
    "## Import Corpus"
   ]
  },
  {
   "cell_type": "code",
   "execution_count": 2,
   "id": "1feeace6-aab0-4507-a50a-59b6767667e7",
   "metadata": {},
   "outputs": [
    {
     "data": {
      "text/html": [
       "<div>\n",
       "<style scoped>\n",
       "    .dataframe tbody tr th:only-of-type {\n",
       "        vertical-align: middle;\n",
       "    }\n",
       "\n",
       "    .dataframe tbody tr th {\n",
       "        vertical-align: top;\n",
       "    }\n",
       "\n",
       "    .dataframe thead th {\n",
       "        text-align: right;\n",
       "    }\n",
       "</style>\n",
       "<table border=\"1\" class=\"dataframe\">\n",
       "  <thead>\n",
       "    <tr style=\"text-align: right;\">\n",
       "      <th></th>\n",
       "      <th>Unnamed: 0</th>\n",
       "      <th>title</th>\n",
       "      <th>body</th>\n",
       "      <th>keywords</th>\n",
       "      <th>words_count</th>\n",
       "    </tr>\n",
       "  </thead>\n",
       "  <tbody>\n",
       "    <tr>\n",
       "      <th>0</th>\n",
       "      <td>0</td>\n",
       "      <td>British Prime Minister Boris Johnson Hospitali...</td>\n",
       "      <td>On Sunday, British Prime Minister Boris Johnso...</td>\n",
       "      <td>['Johnson', 'Hospitalized', 'Boris', 'Minister...</td>\n",
       "      <td>218</td>\n",
       "    </tr>\n",
       "    <tr>\n",
       "      <th>1</th>\n",
       "      <td>1</td>\n",
       "      <td>NSW coronavirus death toll hits 18 as cases ri...</td>\n",
       "      <td>NSW has now recorded 18 COVID-19 deaths as the...</td>\n",
       "      <td>['cases', 'toll', 'death', 'coronavirus', 'COV...</td>\n",
       "      <td>278</td>\n",
       "    </tr>\n",
       "    <tr>\n",
       "      <th>2</th>\n",
       "      <td>2</td>\n",
       "      <td>Industry in Chandigarh will need major impetus...</td>\n",
       "      <td>ChandigarhWith shops and manufacturing units c...</td>\n",
       "      <td>['government', 'impetus', 'major', 'post', 'Ch...</td>\n",
       "      <td>570</td>\n",
       "    </tr>\n",
       "    <tr>\n",
       "      <th>3</th>\n",
       "      <td>3</td>\n",
       "      <td>Coronavirus in Chandigarh: Follow advisories, ...</td>\n",
       "      <td>Chandigarh The 23-year-old man, discharged fro...</td>\n",
       "      <td>['careful', 'advisories', '23-year-old', 'Chan...</td>\n",
       "      <td>348</td>\n",
       "    </tr>\n",
       "    <tr>\n",
       "      <th>4</th>\n",
       "      <td>4</td>\n",
       "      <td>Crackers sound jarring note as Chandigarh tric...</td>\n",
       "      <td>CHANDIGARH The stillness which had become so m...</td>\n",
       "      <td>['Chandigarh', 'tricity', 'lights', 'note', 'j...</td>\n",
       "      <td>377</td>\n",
       "    </tr>\n",
       "  </tbody>\n",
       "</table>\n",
       "</div>"
      ],
      "text/plain": [
       "   Unnamed: 0                                              title  \\\n",
       "0           0  British Prime Minister Boris Johnson Hospitali...   \n",
       "1           1  NSW coronavirus death toll hits 18 as cases ri...   \n",
       "2           2  Industry in Chandigarh will need major impetus...   \n",
       "3           3  Coronavirus in Chandigarh: Follow advisories, ...   \n",
       "4           4  Crackers sound jarring note as Chandigarh tric...   \n",
       "\n",
       "                                                body  \\\n",
       "0  On Sunday, British Prime Minister Boris Johnso...   \n",
       "1  NSW has now recorded 18 COVID-19 deaths as the...   \n",
       "2  ChandigarhWith shops and manufacturing units c...   \n",
       "3  Chandigarh The 23-year-old man, discharged fro...   \n",
       "4  CHANDIGARH The stillness which had become so m...   \n",
       "\n",
       "                                            keywords  words_count  \n",
       "0  ['Johnson', 'Hospitalized', 'Boris', 'Minister...          218  \n",
       "1  ['cases', 'toll', 'death', 'coronavirus', 'COV...          278  \n",
       "2  ['government', 'impetus', 'major', 'post', 'Ch...          570  \n",
       "3  ['careful', 'advisories', '23-year-old', 'Chan...          348  \n",
       "4  ['Chandigarh', 'tricity', 'lights', 'note', 'j...          377  "
      ]
     },
     "execution_count": 2,
     "metadata": {},
     "output_type": "execute_result"
    }
   ],
   "source": [
    "import pandas as pd\n",
    "df = pd.read_csv('D://NLP//Frame_NLP//jan_july_200_article.csv', encoding = 'utf-8')\n",
    "df.head()"
   ]
  },
  {
   "cell_type": "markdown",
   "id": "2b2635f8-43a8-4852-bb89-874cd5d2b177",
   "metadata": {},
   "source": [
    "## Import Whoosh and Indexing the Corpus"
   ]
  },
  {
   "cell_type": "code",
   "execution_count": 3,
   "id": "d1befc1c-408e-40f8-8630-2d09576a392a",
   "metadata": {},
   "outputs": [],
   "source": [
    "from whoosh.fields import Schema, TEXT, ID\n",
    "from whoosh import index\n",
    "import os, os.path\n",
    "from whoosh import index\n",
    "from whoosh import qparser\n",
    "from whoosh.qparser import QueryParser\n",
    "\n",
    "schema = Schema(title=TEXT(stored=True), path=ID(stored=True), content=TEXT(stored = True))\n",
    "\n",
    "if not os.path.exists(\"index_dir\"):\n",
    "    os.mkdir(\"index_dir\")"
   ]
  },
  {
   "cell_type": "code",
   "execution_count": 4,
   "id": "a0c5c33f-e8be-4911-bbb3-9c8405fa949e",
   "metadata": {},
   "outputs": [],
   "source": [
    "ix = index.create_in(\"index_dir\", schema)\n",
    "writer = ix.writer()"
   ]
  },
  {
   "cell_type": "code",
   "execution_count": 5,
   "id": "730bacc7-7b6d-4519-9294-9ad5b134dcf7",
   "metadata": {},
   "outputs": [],
   "source": [
    "for i in range(len(df)):\n",
    "    writer.add_document(title=str(df.title.iloc[i]), content=str(df.body.iloc[i]),\n",
    "                    path=str(i))\n",
    "writer.commit()"
   ]
  },
  {
   "cell_type": "markdown",
   "id": "9aaf559a-6744-4901-9faf-97615823c2e4",
   "metadata": {},
   "source": [
    "## Search Doc and Save Title to File"
   ]
  },
  {
   "cell_type": "code",
   "execution_count": 6,
   "id": "7bd758dc-71e9-4e24-b6ce-665d1cfd82e3",
   "metadata": {},
   "outputs": [],
   "source": [
    "def index_search(dirname, search_fields, search_query):\n",
    "    ix = index.open_dir(dirname)\n",
    "    schema = ix.schema\n",
    "    \n",
    "    og = qparser.OrGroup.factory(0.9)\n",
    "    mp = qparser.MultifieldParser(search_fields, schema, group = og)\n",
    "\n",
    "    \n",
    "    q = mp.parse(search_query)\n",
    "    \n",
    "    #f = open('doctor.txt', 'w', encoding='utf-8')\n",
    "    f = open('D://NLP//Frame_NLP//archive//coronavirus_title.txt', 'w', encoding='utf-8')\n",
    "    \n",
    "    with ix.searcher() as s:\n",
    "        results = s.search(q, terms=True, limit = 10000)\n",
    "        for hit in results:\n",
    "            print(hit['title'], file=f,sep = \"\\t\\t\")\n",
    "          \n",
    "                \n",
    "    f.close()\n",
    "    \n",
    "        #print(results[0:3])\n",
    "        #response = dict(results)\n",
    "        #return ({\"content\": response['content'], 'path': response['path']})\n",
    "    \n",
    "    \n",
    "results_dict = index_search(\"index_dir\", ['title', 'content'], u\"coronavirus\")\n",
    "\n",
    "#results_dict = index_search(\"index_dir\", ['title'], u\"isolation\")"
   ]
  },
  {
   "cell_type": "markdown",
   "id": "4d903d6e-cd75-49c3-892d-fb41d21723c9",
   "metadata": {},
   "source": [
    "## Search Doc and Save Content to File"
   ]
  },
  {
   "cell_type": "code",
   "execution_count": 7,
   "id": "09a84483-60b9-4f11-8fc5-770db7a89013",
   "metadata": {},
   "outputs": [],
   "source": [
    "def index_search(dirname, search_fields, search_query):\n",
    "    ix = index.open_dir(dirname)\n",
    "    schema = ix.schema\n",
    "    \n",
    "    og = qparser.OrGroup.factory(0.9)\n",
    "    mp = qparser.MultifieldParser(search_fields, schema, group = og)\n",
    "\n",
    "    \n",
    "    q = mp.parse(search_query)\n",
    "    \n",
    "    #f = open('doctor.txt', 'w', encoding='utf-8')\n",
    "    f = open('D://NLP//Frame_NLP//archive//coronavirus_content.txt', 'w', encoding='utf-8')\n",
    "    \n",
    "    with ix.searcher() as s:\n",
    "        results = s.search(q, terms=True, limit = 1000)\n",
    "        for hit in results:\n",
    "            print(hit['content'], file=f,sep = \"\\t\\t\")\n",
    "          \n",
    "                \n",
    "    f.close()\n",
    "    \n",
    "        #print(results[0:3])\n",
    "        #response = dict(results)\n",
    "        #return ({\"content\": response['content'], 'path': response['path']})\n",
    "    \n",
    "    \n",
    "results_dict = index_search(\"index_dir\", ['title', 'content'], u\"coronavirus\")\n",
    "\n",
    "#results_dict = index_search(\"index_dir\", ['title'], u\"isolation\")"
   ]
  },
  {
   "cell_type": "code",
   "execution_count": null,
   "id": "17cd2bf3-84d2-4af9-9b06-117df43844c5",
   "metadata": {},
   "outputs": [],
   "source": []
  }
 ],
 "metadata": {
  "kernelspec": {
   "display_name": "Python 3 (ipykernel)",
   "language": "python",
   "name": "python3"
  },
  "language_info": {
   "codemirror_mode": {
    "name": "ipython",
    "version": 3
   },
   "file_extension": ".py",
   "mimetype": "text/x-python",
   "name": "python",
   "nbconvert_exporter": "python",
   "pygments_lexer": "ipython3",
   "version": "3.8.12"
  }
 },
 "nbformat": 4,
 "nbformat_minor": 5
}
