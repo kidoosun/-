{
 "cells": [
  {
   "cell_type": "code",
   "execution_count": 1,
   "id": "258e63ce-4449-46a7-958b-465dffa02b34",
   "metadata": {},
   "outputs": [],
   "source": [
    "import json\n",
    "import pandas as pd\n",
    "import string\n",
    "import time\n",
    "import csv\n",
    "import numpy as np\n",
    "from tqdm import tqdm\n",
    "import copy\n",
    "import multiprocessing\n",
    "import nltk\n",
    "import re\n",
    "import gensim.models.word2vec as w2v\n",
    "import matplotlib.pyplot as plt\n",
    "%matplotlib inline"
   ]
  },
  {
   "cell_type": "code",
   "execution_count": 3,
   "id": "03553753-6355-4c21-b41b-5e4351936cce",
   "metadata": {},
   "outputs": [],
   "source": [
    "df = pd.read_csv('jan_july_100_artile.csv')"
   ]
  },
  {
   "cell_type": "code",
   "execution_count": 9,
   "id": "b9b40cc1-85d1-4bc2-bb80-c0844b640d95",
   "metadata": {
    "collapsed": true,
    "jupyter": {
     "outputs_hidden": true
    },
    "tags": []
   },
   "outputs": [
    {
     "data": {
      "text/html": [
       "<div>\n",
       "<style scoped>\n",
       "    .dataframe tbody tr th:only-of-type {\n",
       "        vertical-align: middle;\n",
       "    }\n",
       "\n",
       "    .dataframe tbody tr th {\n",
       "        vertical-align: top;\n",
       "    }\n",
       "\n",
       "    .dataframe thead th {\n",
       "        text-align: right;\n",
       "    }\n",
       "</style>\n",
       "<table border=\"1\" class=\"dataframe\">\n",
       "  <thead>\n",
       "    <tr style=\"text-align: right;\">\n",
       "      <th></th>\n",
       "      <th>Unnamed: 0</th>\n",
       "      <th>title</th>\n",
       "      <th>body</th>\n",
       "      <th>keywords</th>\n",
       "      <th>words_count</th>\n",
       "    </tr>\n",
       "  </thead>\n",
       "  <tbody>\n",
       "    <tr>\n",
       "      <th>0</th>\n",
       "      <td>0</td>\n",
       "      <td>British Prime Minister Boris Johnson Hospitali...</td>\n",
       "      <td>On Sunday, British Prime Minister Boris Johnso...</td>\n",
       "      <td>['Johnson', 'Hospitalized', 'Boris', 'Minister...</td>\n",
       "      <td>218</td>\n",
       "    </tr>\n",
       "    <tr>\n",
       "      <th>1</th>\n",
       "      <td>1</td>\n",
       "      <td>NSW coronavirus death toll hits 18 as cases ri...</td>\n",
       "      <td>NSW has now recorded 18 COVID-19 deaths as the...</td>\n",
       "      <td>['cases', 'toll', 'death', 'coronavirus', 'COV...</td>\n",
       "      <td>278</td>\n",
       "    </tr>\n",
       "    <tr>\n",
       "      <th>2</th>\n",
       "      <td>2</td>\n",
       "      <td>Industry in Chandigarh will need major impetus...</td>\n",
       "      <td>ChandigarhWith shops and manufacturing units c...</td>\n",
       "      <td>['government', 'impetus', 'major', 'post', 'Ch...</td>\n",
       "      <td>570</td>\n",
       "    </tr>\n",
       "    <tr>\n",
       "      <th>3</th>\n",
       "      <td>3</td>\n",
       "      <td>Coronavirus in Chandigarh: Follow advisories, ...</td>\n",
       "      <td>Chandigarh The 23-year-old man, discharged fro...</td>\n",
       "      <td>['careful', 'advisories', '23-year-old', 'Chan...</td>\n",
       "      <td>348</td>\n",
       "    </tr>\n",
       "    <tr>\n",
       "      <th>4</th>\n",
       "      <td>4</td>\n",
       "      <td>Crackers sound jarring note as Chandigarh tric...</td>\n",
       "      <td>CHANDIGARH The stillness which had become so m...</td>\n",
       "      <td>['Chandigarh', 'tricity', 'lights', 'note', 'j...</td>\n",
       "      <td>377</td>\n",
       "    </tr>\n",
       "    <tr>\n",
       "      <th>5</th>\n",
       "      <td>5</td>\n",
       "      <td>48% Covid-19 positive patients in Chandigarh t...</td>\n",
       "      <td>Chandigarh Health authorities have confirmed t...</td>\n",
       "      <td>['Chandigarh', 'patients', 'tricity', 'positiv...</td>\n",
       "      <td>298</td>\n",
       "    </tr>\n",
       "    <tr>\n",
       "      <th>6</th>\n",
       "      <td>6</td>\n",
       "      <td>Covid 19 coronavirus: Huge price hikes for ess...</td>\n",
       "      <td>A freezer that cost $949 on March 1 shot up to...</td>\n",
       "      <td>['hikes', 'price', 'essential', 'Huge', 'coron...</td>\n",
       "      <td>584</td>\n",
       "    </tr>\n",
       "    <tr>\n",
       "      <th>7</th>\n",
       "      <td>7</td>\n",
       "      <td>Holy Week rites worldwide disrupted, but not s...</td>\n",
       "      <td>Attendees sit by palm branches as Pope Francis...</td>\n",
       "      <td>['worldwide', 'rites', 'Week', 'Holy', 'spirit...</td>\n",
       "      <td>1015</td>\n",
       "    </tr>\n",
       "    <tr>\n",
       "      <th>8</th>\n",
       "      <td>8</td>\n",
       "      <td>Crucifixion site on lockdown to block penitents</td>\n",
       "      <td>Local tourists pose by crosses before a re-ena...</td>\n",
       "      <td>['penitents', 'site', 'Crucifixion', 'lockdown...</td>\n",
       "      <td>326</td>\n",
       "    </tr>\n",
       "    <tr>\n",
       "      <th>9</th>\n",
       "      <td>9</td>\n",
       "      <td>COVID-19 patients to waive confidentiality</td>\n",
       "      <td>COVID-19 patients to waive confidentiality\\n\\n...</td>\n",
       "      <td>['patients', 'confidentiality', 'COVID-19', 'm...</td>\n",
       "      <td>530</td>\n",
       "    </tr>\n",
       "  </tbody>\n",
       "</table>\n",
       "</div>"
      ],
      "text/plain": [
       "   Unnamed: 0                                              title  \\\n",
       "0           0  British Prime Minister Boris Johnson Hospitali...   \n",
       "1           1  NSW coronavirus death toll hits 18 as cases ri...   \n",
       "2           2  Industry in Chandigarh will need major impetus...   \n",
       "3           3  Coronavirus in Chandigarh: Follow advisories, ...   \n",
       "4           4  Crackers sound jarring note as Chandigarh tric...   \n",
       "5           5  48% Covid-19 positive patients in Chandigarh t...   \n",
       "6           6  Covid 19 coronavirus: Huge price hikes for ess...   \n",
       "7           7  Holy Week rites worldwide disrupted, but not s...   \n",
       "8           8    Crucifixion site on lockdown to block penitents   \n",
       "9           9         COVID-19 patients to waive confidentiality   \n",
       "\n",
       "                                                body  \\\n",
       "0  On Sunday, British Prime Minister Boris Johnso...   \n",
       "1  NSW has now recorded 18 COVID-19 deaths as the...   \n",
       "2  ChandigarhWith shops and manufacturing units c...   \n",
       "3  Chandigarh The 23-year-old man, discharged fro...   \n",
       "4  CHANDIGARH The stillness which had become so m...   \n",
       "5  Chandigarh Health authorities have confirmed t...   \n",
       "6  A freezer that cost $949 on March 1 shot up to...   \n",
       "7  Attendees sit by palm branches as Pope Francis...   \n",
       "8  Local tourists pose by crosses before a re-ena...   \n",
       "9  COVID-19 patients to waive confidentiality\\n\\n...   \n",
       "\n",
       "                                            keywords  words_count  \n",
       "0  ['Johnson', 'Hospitalized', 'Boris', 'Minister...          218  \n",
       "1  ['cases', 'toll', 'death', 'coronavirus', 'COV...          278  \n",
       "2  ['government', 'impetus', 'major', 'post', 'Ch...          570  \n",
       "3  ['careful', 'advisories', '23-year-old', 'Chan...          348  \n",
       "4  ['Chandigarh', 'tricity', 'lights', 'note', 'j...          377  \n",
       "5  ['Chandigarh', 'patients', 'tricity', 'positiv...          298  \n",
       "6  ['hikes', 'price', 'essential', 'Huge', 'coron...          584  \n",
       "7  ['worldwide', 'rites', 'Week', 'Holy', 'spirit...         1015  \n",
       "8  ['penitents', 'site', 'Crucifixion', 'lockdown...          326  \n",
       "9  ['patients', 'confidentiality', 'COVID-19', 'm...          530  "
      ]
     },
     "execution_count": 9,
     "metadata": {},
     "output_type": "execute_result"
    }
   ],
   "source": [
    "df.head(10)"
   ]
  },
  {
   "cell_type": "code",
   "execution_count": 4,
   "id": "12ff5faa-42d8-436f-976b-57a1a6f299b1",
   "metadata": {},
   "outputs": [],
   "source": [
    "corpus_text = '\\n'.join(df['body'])\n",
    "sentences = corpus_text.split('\\n')\n",
    "sentences = [line.lower().split(' ') for line in sentences]"
   ]
  },
  {
   "cell_type": "code",
   "execution_count": 5,
   "id": "db973f51-aada-4ede-9f3c-1f38874330c9",
   "metadata": {},
   "outputs": [],
   "source": [
    "df.dropna(axis = 0, how ='any',inplace=True) \n",
    "df.drop_duplicates(subset=['body'],keep='first',inplace=True)"
   ]
  },
  {
   "cell_type": "code",
   "execution_count": 6,
   "id": "66bb8bf1-77f6-490f-95dd-5e1a90a485b7",
   "metadata": {},
   "outputs": [],
   "source": [
    "def clean_text(text ): \n",
    "    delete_dict = {sp_character: ' ' for sp_character in string.punctuation} \n",
    "    delete_dict[' '] = ' ' \n",
    "    table = str.maketrans(delete_dict)\n",
    "    text1 = text.translate(table)\n",
    "    #print('cleaned:'+text1)\n",
    "    textArr= text1.split()\n",
    "    text2 = ' '.join([w for w in textArr if ( not w.isdigit() and  ( not w.isdigit() and len(w)>2))]) \n",
    "    \n",
    "    return text2.lower().split(' ')"
   ]
  },
  {
   "cell_type": "code",
   "execution_count": 7,
   "id": "35495afc-bf0c-442e-a205-be6f2f0f5166",
   "metadata": {},
   "outputs": [],
   "source": [
    "df['body']= df['body'].apply(clean_text)"
   ]
  },
  {
   "cell_type": "code",
   "execution_count": 8,
   "id": "738c96dc-7582-43fc-8040-26829057e0e0",
   "metadata": {},
   "outputs": [],
   "source": [
    "sentences = df['body'].tolist()"
   ]
  },
  {
   "cell_type": "code",
   "execution_count": 9,
   "id": "05d2bbab-334e-411a-8828-20b2e574fe08",
   "metadata": {
    "tags": []
   },
   "outputs": [
    {
     "name": "stdout",
     "output_type": "stream",
     "text": [
      "99437\n",
      "['nsw', 'has', 'now', 'recorded', 'covid', 'deaths', 'the', 'state', 'total', 'number', 'cases', 'rises', 'nsw', 'health', 'said', 'monday', 'the', 'state', 'had', 'recorded', 'new', 'cases', 'drop', 'the', 'previous', 'day', 'which', 'was', 'partly', 'explained', 'fewer', 'tests', 'being', 'done', 'over', 'the', 'weekend', 'the', 'death', 'toll', 'rose', 'after', 'the', 'deaths', 'year', 'old', 'man', 'and', 'year', 'old', 'man', 'sunday', 'comes', 'after', 'nsw', 'police', 'commissioner', 'mick', 'fuller', 'sunday', 'announced', 'investigation', 'into', 'the', 'circumstances', 'surrounding', 'the', 'docking', 'and', 'disembarkation', 'passengers', 'from', 'the', 'ill', 'fated', 'ruby', 'princess', 'cruise', 'ship', 'the', 'investigation', 'led', 'the', 'nsw', 'police', 'homicide', 'squad', 'aims', 'identify', 'how', 'passengers', 'were', 'allowed', 'disembark', 'from', 'the', 'ship', 'sydney', 'which', 'linked', 'covid', 'cases', 'and', 'least', 'deaths', 'across', 'the', 'country', 'the', 'only', 'way', 'can', 'get', 'the', 'bottom', 'whether', 'our', 'national', 'biosecurity', 'laws', 'and', 'our', 'state', 'laws', 'were', 'broken', 'through', 'criminal', 'investigation', 'fuller', 'said', 'fuller', 'told', 'reporters', 'transparency', 'regarding', 'patient', 'health', 'board', 'the', 'cruise', 'ship', 'was', 'key', 'question', 'for', 'the', 'investigation', 'the', 'ship', 'will', 'dock', 'port', 'kembla', 'near', 'wollongong', 'monday', 'expected', 'spend', 'days', 'docked', 'for', 'medical', 'assessments', 'treatment', 'emergency', 'extractions', 'the', 'crew', 'nsw', 'police', 'say', 'the', 'investigation', 'will', 'cover', 'the', 'actions', 'the', 'port', 'authority', 'ambulance', 'police', 'the', 'nsw', 'health', 'department', 'and', 'carnival', 'australia', 'the', 'nsw', 'government', 'sunday', 'urged', 'young', 'people', 'take', 'the', 'covid', 'pandemic', 'seriously', 'revealing', 'more', 'than', 'quarter', 'the', 'state', 'current', 'coronavirus', 'cases', 'are', 'people', 'aged', 'under']\n",
      "['london', 'reuters', 'british', 'prime', 'minister', 'boris', 'johnson', 'was', 'admitted', 'hospital', 'for', 'tests', 'sunday', 'what', 'downing', 'street', 'said', 'was', '“precautionary', 'step”', 'because', 'was', 'showing', 'persistent', 'symptoms', 'the', 'coronavirus', 'days', 'after', 'testing', 'positive', 'for', 'view', 'downing', 'street', 'london', 'britain', 'april', 'after', 'british', 'prime', 'minister', 'boris', 'johnson', 'was', 'admitted', 'hospital', 'for', 'tests', 'sunday', 'after', 'suffering', 'persistent', 'coronavirus', 'covid', 'symptoms', 'after', 'testing', 'positive', 'for', 'the', 'virus', 'reuters', 'henry', 'nicholls', 'below', 'timeline', 'with', 'what', 'know', 'about', 'his', 'activities', 'over', 'those', 'days', 'when', 'was', 'self', 'isolating', 'but', 'still', 'leading', 'britain’s', 'response', 'the', 'coronavirus', 'outbreak', 'including', 'chairing', 'daily', 'virtual', 'emergency', 'meetings', 'march', 'friday', 'johnson', 'said', 'had', 'tested', 'positive', 'for', 'the', 'coronavirus', 'and', 'that', 'would', 'self', 'isolate', 'downing', 'street', 'health', 'minister', 'matt', 'hancock', 'also', 'tested', 'positive', 'while', 'england’s', 'top', 'medical', 'officer', 'began', 'self', 'isolating', 'after', 'developing', 'symptoms', '“i’ve', 'developed', 'mild', 'symptoms', 'the', 'coronavirus', 'that’s', 'say', 'temperature', 'and', 'persistent', 'cough', 'johnson', 'said', 'video', 'posted', 'twitter', '“be', 'doubt', 'that', 'can', 'continue', 'thanks', 'the', 'wizardry', 'modern', 'technology', 'communicate', 'with', 'all', 'top', 'team', 'lead', 'the', 'national', 'fightback', 'against', 'coronavirus', 'johnson', 'spoke', 'phone', 'president', 'donald', 'trump', 'who', 'wished', 'him', 'speedy', 'recovery', 'johnson', 'chaired', 'government', 'meeting', 'the', 'coronavirus', 'friday', 'morning', 'via', 'teleconference', 'johnson', 'had', 'meals', 'delivered', 'the', 'door', 'apartment', 'downing', 'street', 'while', 'self', 'isolation', 'march', 'saturday', 'announced', 'that', 'johnson', 'will', 'write', 'every', 'household', 'urging', 'people', 'stay', 'home', 'help', 'contain', 'the', 'coronavirus', 'march', 'sunday', 'johnson', 'posted', 'video', 'himself', 'suit', 'and', 'tie', 'thanking', 'people', 'for', 'staying', 'home', 'well', 'health', 'workers', 'grocers', 'and', 'pharmacists', 'march', 'monday', 'foreign', 'secretary', 'dominic', 'raab', 'said', 'johnson', 'was', '“full', 'vigour”', 'despite', 'being', 'self', 'isolated', 'johnson’s', 'spokesman', 'said', 'that', 'johnson', 'was', 'fully', 'able', 'run', 'britain’s', 'coronavirus', 'response', 'despite', 'the', 'positive', 'test', 'and', 'continued', 'chair', 'daily', 'meetings', 'johnson', 'tweeted', 'picture', 'himself', 'attending', 'meeting', 'via', 'video', 'link', 'march', 'tuesday', 'johnson', 'chaired', 'cabinet', 'the', 'first', 'all', 'digital', 'meeting', 'british', 'pm’s', 'top', 'team', 'ministers', 'video', 'platform', 'zoom', 'april', 'wednesday', 'johnson', 'posted', 'video', 'message', 'twitter', 'lamenting', 'rise', 'the', 'number', 'coronavirus', 'related', 'deaths', 'britain', 'april', 'thursday', 'another', 'video', 'message', 'johnson', 'vowed', 'ramp', 'testing', 'for', 'the', 'coronavirus', 'also', 'came', 'out', 'himself', 'onto', 'the', 'doorstep', 'downing', 'street', 'applaud', 'frontline', 'medical', 'workers', 'part', 'the', '“clap', 'for', 'carers”', 'initiative', 'april', 'friday', 'weary', 'looking', 'johnson', 'said', 'would', 'remain', 'isolation', 'continued', 'have', 'mild', 'symptoms', 'covid', 'the', 'respiratory', 'disease', 'caused', 'the', 'novel', 'coronavirus', 'including', 'high', 'temperature', 'week', 'after', 'tested', 'positive', 'for', 'the', 'virus', '“although', 'i’m', 'feeling', 'better', 'and', 'i’ve', 'done', 'seven', 'days', 'isolation', 'alas', 'still', 'have', 'one', 'the', 'symptoms', 'minor', 'symptom', 'still', 'have', 'temperature', 'accordance', 'with', 'government', 'advice', 'must', 'continue', 'self', 'isolation', 'until', 'that', 'symptom', 'itself', 'goes', 'johnson', 'said', 'video', 'message', 'wearing', 'open', 'necked', 'shirt', 'april', 'saturday', 'johnson', 'said', 'tweet', 'that', 'spoke', 'newly', 'elected', 'opposition', 'labour', 'leader', 'keir', 'starmer', 'and', 'invited', 'him', 'and', 'other', 'party', 'leaders', 'briefing', 'the', 'following', 'week', 'how', 'work', 'together', 'during', 'the', 'national', 'emergency', 'april', 'sunday', 'downing', 'street', 'announced', 'the', 'evening', 'that', 'johnson', 'had', 'been', 'taken', 'hospital', 'precautionary', 'measure', 'because', 'the', 'persistent', 'nature', 'his', 'symptoms', 'days', 'after', 'first', 'tested', 'positive', 'reporting', 'alistair', 'smout', 'and', 'mark', 'bendeich', 'editing', 'peter', 'cooney']\n"
     ]
    }
   ],
   "source": [
    "print(len(sentences))\n",
    "print(sentences[1])\n",
    "print(sentences[200])"
   ]
  },
  {
   "cell_type": "code",
   "execution_count": 2,
   "id": "61fc69f1-383f-47b0-8d63-d80a01e36221",
   "metadata": {},
   "outputs": [],
   "source": [
    "import gensim"
   ]
  },
  {
   "cell_type": "code",
   "execution_count": 13,
   "id": "379dbdcd-0238-4a48-92b0-3d0e8397c9bf",
   "metadata": {},
   "outputs": [],
   "source": [
    "from gensim.models.callbacks import CallbackAny2Vec\n",
    "from gensim.models import Word2Vec\n",
    "\n",
    "# init callback class\n",
    "class callback(CallbackAny2Vec):\n",
    "    \"\"\"\n",
    "    Callback to print loss after each epoch\n",
    "    \"\"\"\n",
    "    def __init__(self):\n",
    "        self.epoch = 0\n",
    "\n",
    "    def on_epoch_end(self, model):\n",
    "        loss = model.get_latest_training_loss()\n",
    "        \n",
    "        if self.epoch == 0:\n",
    "            print('Loss after epoch {}: {}'.format(self.epoch, loss))\n",
    "        elif self.epoch % 100 == 0:\n",
    "            print('Loss after epoch {}: {}'.format(self.epoch, loss- self.loss_previous_step))\n",
    "        \n",
    "        \n",
    "        self.epoch += 1\n",
    "        self.loss_previous_step = loss"
   ]
  },
  {
   "cell_type": "code",
   "execution_count": 14,
   "id": "ccb0c610-32b9-4933-abe4-5311fd7eb820",
   "metadata": {},
   "outputs": [],
   "source": [
    "# hyper parameters of the word2vec model\n",
    "num_features = 200 # dimensions of each word embedding\n",
    "min_word_count = 2 # this is not advisable but since we need to extract\n",
    "# feature vector for each word we need to do this\n",
    "num_workers = multiprocessing.cpu_count() # number of threads running in parallel\n",
    "context_size = 7 # context window length\n",
    "downsampling = 1e-3 # downsampling for very frequent words\n",
    "seed = 1 # seed for random number generator to make results reproducible"
   ]
  },
  {
   "cell_type": "code",
   "execution_count": 17,
   "id": "3f604586-24a1-43ff-bf8a-c0d38468f4e8",
   "metadata": {
    "tags": []
   },
   "outputs": [],
   "source": [
    "# init word2vec class\n",
    "w2v_model = Word2Vec(vector_size = num_features,\n",
    "                     window = 10,\n",
    "                     min_count = 2,\n",
    "                     workers = num_workers,\n",
    "                     sg = 0,\n",
    "                    )\n",
    "# build vovab\n",
    "\n",
    "\n",
    "w2v_model.build_vocab(sentences)\n",
    "\n",
    "  \n"
   ]
  },
  {
   "cell_type": "code",
   "execution_count": 20,
   "id": "7355030f-86b7-4228-ac01-5f053594b5c0",
   "metadata": {},
   "outputs": [
    {
     "name": "stdout",
     "output_type": "stream",
     "text": [
      "Loss after epoch 0: 4559433.0\n",
      "Loss after epoch 100: 180552.0\n",
      "elapsedtime in seconds :1539.015480041504\n"
     ]
    },
    {
     "ename": "FileNotFoundError",
     "evalue": "[Errno 2] No such file or directory: 'D:\\\\NLP\\\\Frame_NLP\\\\W2VData\\\\word2vec.model.wv.vectors.npy'",
     "output_type": "error",
     "traceback": [
      "\u001b[1;31m---------------------------------------------------------------------------\u001b[0m",
      "\u001b[1;31mTypeError\u001b[0m                                 Traceback (most recent call last)",
      "\u001b[1;32mc:\\users\\hp\\miniconda3\\envs\\nlp_env\\lib\\site-packages\\gensim\\utils.py\u001b[0m in \u001b[0;36msave\u001b[1;34m(self, fname_or_handle, separately, sep_limit, ignore, pickle_protocol)\u001b[0m\n\u001b[0;32m    762\u001b[0m         \u001b[1;32mtry\u001b[0m\u001b[1;33m:\u001b[0m\u001b[1;33m\u001b[0m\u001b[1;33m\u001b[0m\u001b[0m\n\u001b[1;32m--> 763\u001b[1;33m             \u001b[0m_pickle\u001b[0m\u001b[1;33m.\u001b[0m\u001b[0mdump\u001b[0m\u001b[1;33m(\u001b[0m\u001b[0mself\u001b[0m\u001b[1;33m,\u001b[0m \u001b[0mfname_or_handle\u001b[0m\u001b[1;33m,\u001b[0m \u001b[0mprotocol\u001b[0m\u001b[1;33m=\u001b[0m\u001b[0mpickle_protocol\u001b[0m\u001b[1;33m)\u001b[0m\u001b[1;33m\u001b[0m\u001b[1;33m\u001b[0m\u001b[0m\n\u001b[0m\u001b[0;32m    764\u001b[0m             \u001b[0mlogger\u001b[0m\u001b[1;33m.\u001b[0m\u001b[0minfo\u001b[0m\u001b[1;33m(\u001b[0m\u001b[1;34m\"saved %s object\"\u001b[0m\u001b[1;33m,\u001b[0m \u001b[0mself\u001b[0m\u001b[1;33m.\u001b[0m\u001b[0m__class__\u001b[0m\u001b[1;33m.\u001b[0m\u001b[0m__name__\u001b[0m\u001b[1;33m)\u001b[0m\u001b[1;33m\u001b[0m\u001b[1;33m\u001b[0m\u001b[0m\n",
      "\u001b[1;31mTypeError\u001b[0m: file must have a 'write' attribute",
      "\nDuring handling of the above exception, another exception occurred:\n",
      "\u001b[1;31mFileNotFoundError\u001b[0m                         Traceback (most recent call last)",
      "\u001b[1;32m~\\AppData\\Local\\Temp/ipykernel_1128/3950135421.py\u001b[0m in \u001b[0;36m<module>\u001b[1;34m\u001b[0m\n\u001b[0;32m     12\u001b[0m \u001b[0mprint\u001b[0m\u001b[1;33m(\u001b[0m\u001b[1;34m\"elapsedtime in seconds :\"\u001b[0m\u001b[1;33m+\u001b[0m \u001b[0mstr\u001b[0m\u001b[1;33m(\u001b[0m\u001b[0mend\u001b[0m \u001b[1;33m-\u001b[0m \u001b[0mstart\u001b[0m\u001b[1;33m)\u001b[0m\u001b[1;33m)\u001b[0m\u001b[1;33m\u001b[0m\u001b[1;33m\u001b[0m\u001b[0m\n\u001b[0;32m     13\u001b[0m \u001b[1;31m# save the word2vec model\u001b[0m\u001b[1;33m\u001b[0m\u001b[1;33m\u001b[0m\u001b[1;33m\u001b[0m\u001b[0m\n\u001b[1;32m---> 14\u001b[1;33m \u001b[0mw2v_model\u001b[0m\u001b[1;33m.\u001b[0m\u001b[0msave\u001b[0m\u001b[1;33m(\u001b[0m\u001b[1;34m'D:\\\\NLP\\\\Frame_NLP\\\\W2VData\\\\word2vec.model'\u001b[0m\u001b[1;33m)\u001b[0m\u001b[1;33m\u001b[0m\u001b[1;33m\u001b[0m\u001b[0m\n\u001b[0m",
      "\u001b[1;32mc:\\users\\hp\\miniconda3\\envs\\nlp_env\\lib\\site-packages\\gensim\\models\\word2vec.py\u001b[0m in \u001b[0;36msave\u001b[1;34m(self, *args, **kwargs)\u001b[0m\n\u001b[0;32m   1898\u001b[0m \u001b[1;33m\u001b[0m\u001b[0m\n\u001b[0;32m   1899\u001b[0m         \"\"\"\n\u001b[1;32m-> 1900\u001b[1;33m         \u001b[0msuper\u001b[0m\u001b[1;33m(\u001b[0m\u001b[0mWord2Vec\u001b[0m\u001b[1;33m,\u001b[0m \u001b[0mself\u001b[0m\u001b[1;33m)\u001b[0m\u001b[1;33m.\u001b[0m\u001b[0msave\u001b[0m\u001b[1;33m(\u001b[0m\u001b[1;33m*\u001b[0m\u001b[0margs\u001b[0m\u001b[1;33m,\u001b[0m \u001b[1;33m**\u001b[0m\u001b[0mkwargs\u001b[0m\u001b[1;33m)\u001b[0m\u001b[1;33m\u001b[0m\u001b[1;33m\u001b[0m\u001b[0m\n\u001b[0m\u001b[0;32m   1901\u001b[0m \u001b[1;33m\u001b[0m\u001b[0m\n\u001b[0;32m   1902\u001b[0m     \u001b[1;32mdef\u001b[0m \u001b[0m_save_specials\u001b[0m\u001b[1;33m(\u001b[0m\u001b[0mself\u001b[0m\u001b[1;33m,\u001b[0m \u001b[0mfname\u001b[0m\u001b[1;33m,\u001b[0m \u001b[0mseparately\u001b[0m\u001b[1;33m,\u001b[0m \u001b[0msep_limit\u001b[0m\u001b[1;33m,\u001b[0m \u001b[0mignore\u001b[0m\u001b[1;33m,\u001b[0m \u001b[0mpickle_protocol\u001b[0m\u001b[1;33m,\u001b[0m \u001b[0mcompress\u001b[0m\u001b[1;33m,\u001b[0m \u001b[0msubname\u001b[0m\u001b[1;33m)\u001b[0m\u001b[1;33m:\u001b[0m\u001b[1;33m\u001b[0m\u001b[1;33m\u001b[0m\u001b[0m\n",
      "\u001b[1;32mc:\\users\\hp\\miniconda3\\envs\\nlp_env\\lib\\site-packages\\gensim\\utils.py\u001b[0m in \u001b[0;36msave\u001b[1;34m(self, fname_or_handle, separately, sep_limit, ignore, pickle_protocol)\u001b[0m\n\u001b[0;32m    764\u001b[0m             \u001b[0mlogger\u001b[0m\u001b[1;33m.\u001b[0m\u001b[0minfo\u001b[0m\u001b[1;33m(\u001b[0m\u001b[1;34m\"saved %s object\"\u001b[0m\u001b[1;33m,\u001b[0m \u001b[0mself\u001b[0m\u001b[1;33m.\u001b[0m\u001b[0m__class__\u001b[0m\u001b[1;33m.\u001b[0m\u001b[0m__name__\u001b[0m\u001b[1;33m)\u001b[0m\u001b[1;33m\u001b[0m\u001b[1;33m\u001b[0m\u001b[0m\n\u001b[0;32m    765\u001b[0m         \u001b[1;32mexcept\u001b[0m \u001b[0mTypeError\u001b[0m\u001b[1;33m:\u001b[0m  \u001b[1;31m# `fname_or_handle` does not have write attribute\u001b[0m\u001b[1;33m\u001b[0m\u001b[1;33m\u001b[0m\u001b[0m\n\u001b[1;32m--> 766\u001b[1;33m             \u001b[0mself\u001b[0m\u001b[1;33m.\u001b[0m\u001b[0m_smart_save\u001b[0m\u001b[1;33m(\u001b[0m\u001b[0mfname_or_handle\u001b[0m\u001b[1;33m,\u001b[0m \u001b[0mseparately\u001b[0m\u001b[1;33m,\u001b[0m \u001b[0msep_limit\u001b[0m\u001b[1;33m,\u001b[0m \u001b[0mignore\u001b[0m\u001b[1;33m,\u001b[0m \u001b[0mpickle_protocol\u001b[0m\u001b[1;33m=\u001b[0m\u001b[0mpickle_protocol\u001b[0m\u001b[1;33m)\u001b[0m\u001b[1;33m\u001b[0m\u001b[1;33m\u001b[0m\u001b[0m\n\u001b[0m\u001b[0;32m    767\u001b[0m \u001b[1;33m\u001b[0m\u001b[0m\n\u001b[0;32m    768\u001b[0m \u001b[1;33m\u001b[0m\u001b[0m\n",
      "\u001b[1;32mc:\\users\\hp\\miniconda3\\envs\\nlp_env\\lib\\site-packages\\gensim\\utils.py\u001b[0m in \u001b[0;36m_smart_save\u001b[1;34m(self, fname, separately, sep_limit, ignore, pickle_protocol)\u001b[0m\n\u001b[0;32m    604\u001b[0m         \u001b[0mcompress\u001b[0m\u001b[1;33m,\u001b[0m \u001b[0msubname\u001b[0m \u001b[1;33m=\u001b[0m \u001b[0mSaveLoad\u001b[0m\u001b[1;33m.\u001b[0m\u001b[0m_adapt_by_suffix\u001b[0m\u001b[1;33m(\u001b[0m\u001b[0mfname\u001b[0m\u001b[1;33m)\u001b[0m\u001b[1;33m\u001b[0m\u001b[1;33m\u001b[0m\u001b[0m\n\u001b[0;32m    605\u001b[0m \u001b[1;33m\u001b[0m\u001b[0m\n\u001b[1;32m--> 606\u001b[1;33m         restores = self._save_specials(\n\u001b[0m\u001b[0;32m    607\u001b[0m             \u001b[0mfname\u001b[0m\u001b[1;33m,\u001b[0m \u001b[0mseparately\u001b[0m\u001b[1;33m,\u001b[0m \u001b[0msep_limit\u001b[0m\u001b[1;33m,\u001b[0m \u001b[0mignore\u001b[0m\u001b[1;33m,\u001b[0m \u001b[0mpickle_protocol\u001b[0m\u001b[1;33m,\u001b[0m \u001b[0mcompress\u001b[0m\u001b[1;33m,\u001b[0m \u001b[0msubname\u001b[0m\u001b[1;33m,\u001b[0m\u001b[1;33m\u001b[0m\u001b[1;33m\u001b[0m\u001b[0m\n\u001b[0;32m    608\u001b[0m         )\n",
      "\u001b[1;32mc:\\users\\hp\\miniconda3\\envs\\nlp_env\\lib\\site-packages\\gensim\\models\\word2vec.py\u001b[0m in \u001b[0;36m_save_specials\u001b[1;34m(self, fname, separately, sep_limit, ignore, pickle_protocol, compress, subname)\u001b[0m\n\u001b[0;32m   1904\u001b[0m         \u001b[1;31m# don't save properties that are merely calculated from others\u001b[0m\u001b[1;33m\u001b[0m\u001b[1;33m\u001b[0m\u001b[1;33m\u001b[0m\u001b[0m\n\u001b[0;32m   1905\u001b[0m         \u001b[0mignore\u001b[0m \u001b[1;33m=\u001b[0m \u001b[0mset\u001b[0m\u001b[1;33m(\u001b[0m\u001b[0mignore\u001b[0m\u001b[1;33m)\u001b[0m\u001b[1;33m.\u001b[0m\u001b[0munion\u001b[0m\u001b[1;33m(\u001b[0m\u001b[1;33m[\u001b[0m\u001b[1;34m'cum_table'\u001b[0m\u001b[1;33m,\u001b[0m \u001b[1;33m]\u001b[0m\u001b[1;33m)\u001b[0m\u001b[1;33m\u001b[0m\u001b[1;33m\u001b[0m\u001b[0m\n\u001b[1;32m-> 1906\u001b[1;33m         return super(Word2Vec, self)._save_specials(\n\u001b[0m\u001b[0;32m   1907\u001b[0m             fname, separately, sep_limit, ignore, pickle_protocol, compress, subname)\n\u001b[0;32m   1908\u001b[0m \u001b[1;33m\u001b[0m\u001b[0m\n",
      "\u001b[1;32mc:\\users\\hp\\miniconda3\\envs\\nlp_env\\lib\\site-packages\\gensim\\utils.py\u001b[0m in \u001b[0;36m_save_specials\u001b[1;34m(self, fname, separately, sep_limit, ignore, pickle_protocol, compress, subname)\u001b[0m\n\u001b[0;32m    668\u001b[0m                 \u001b[0mrecursive_saveloads\u001b[0m\u001b[1;33m.\u001b[0m\u001b[0mappend\u001b[0m\u001b[1;33m(\u001b[0m\u001b[0mattrib\u001b[0m\u001b[1;33m)\u001b[0m\u001b[1;33m\u001b[0m\u001b[1;33m\u001b[0m\u001b[0m\n\u001b[0;32m    669\u001b[0m                 \u001b[0mcfname\u001b[0m \u001b[1;33m=\u001b[0m \u001b[1;34m'.'\u001b[0m\u001b[1;33m.\u001b[0m\u001b[0mjoin\u001b[0m\u001b[1;33m(\u001b[0m\u001b[1;33m(\u001b[0m\u001b[0mfname\u001b[0m\u001b[1;33m,\u001b[0m \u001b[0mattrib\u001b[0m\u001b[1;33m)\u001b[0m\u001b[1;33m)\u001b[0m\u001b[1;33m\u001b[0m\u001b[1;33m\u001b[0m\u001b[0m\n\u001b[1;32m--> 670\u001b[1;33m                 \u001b[0mrestores\u001b[0m\u001b[1;33m.\u001b[0m\u001b[0mextend\u001b[0m\u001b[1;33m(\u001b[0m\u001b[0mval\u001b[0m\u001b[1;33m.\u001b[0m\u001b[0m_save_specials\u001b[0m\u001b[1;33m(\u001b[0m\u001b[0mcfname\u001b[0m\u001b[1;33m,\u001b[0m \u001b[1;32mNone\u001b[0m\u001b[1;33m,\u001b[0m \u001b[0msep_limit\u001b[0m\u001b[1;33m,\u001b[0m \u001b[0mignore\u001b[0m\u001b[1;33m,\u001b[0m \u001b[0mpickle_protocol\u001b[0m\u001b[1;33m,\u001b[0m \u001b[0mcompress\u001b[0m\u001b[1;33m,\u001b[0m \u001b[0msubname\u001b[0m\u001b[1;33m)\u001b[0m\u001b[1;33m)\u001b[0m\u001b[1;33m\u001b[0m\u001b[1;33m\u001b[0m\u001b[0m\n\u001b[0m\u001b[0;32m    671\u001b[0m \u001b[1;33m\u001b[0m\u001b[0m\n\u001b[0;32m    672\u001b[0m         \u001b[1;32mtry\u001b[0m\u001b[1;33m:\u001b[0m\u001b[1;33m\u001b[0m\u001b[1;33m\u001b[0m\u001b[0m\n",
      "\u001b[1;32mc:\\users\\hp\\miniconda3\\envs\\nlp_env\\lib\\site-packages\\gensim\\utils.py\u001b[0m in \u001b[0;36m_save_specials\u001b[1;34m(self, fname, separately, sep_limit, ignore, pickle_protocol, compress, subname)\u001b[0m\n\u001b[0;32m    680\u001b[0m                         \u001b[0mnp\u001b[0m\u001b[1;33m.\u001b[0m\u001b[0msavez_compressed\u001b[0m\u001b[1;33m(\u001b[0m\u001b[0msubname\u001b[0m\u001b[1;33m(\u001b[0m\u001b[0mfname\u001b[0m\u001b[1;33m,\u001b[0m \u001b[0mattrib\u001b[0m\u001b[1;33m)\u001b[0m\u001b[1;33m,\u001b[0m \u001b[0mval\u001b[0m\u001b[1;33m=\u001b[0m\u001b[0mnp\u001b[0m\u001b[1;33m.\u001b[0m\u001b[0mascontiguousarray\u001b[0m\u001b[1;33m(\u001b[0m\u001b[0mval\u001b[0m\u001b[1;33m)\u001b[0m\u001b[1;33m)\u001b[0m\u001b[1;33m\u001b[0m\u001b[1;33m\u001b[0m\u001b[0m\n\u001b[0;32m    681\u001b[0m                     \u001b[1;32melse\u001b[0m\u001b[1;33m:\u001b[0m\u001b[1;33m\u001b[0m\u001b[1;33m\u001b[0m\u001b[0m\n\u001b[1;32m--> 682\u001b[1;33m                         \u001b[0mnp\u001b[0m\u001b[1;33m.\u001b[0m\u001b[0msave\u001b[0m\u001b[1;33m(\u001b[0m\u001b[0msubname\u001b[0m\u001b[1;33m(\u001b[0m\u001b[0mfname\u001b[0m\u001b[1;33m,\u001b[0m \u001b[0mattrib\u001b[0m\u001b[1;33m)\u001b[0m\u001b[1;33m,\u001b[0m \u001b[0mnp\u001b[0m\u001b[1;33m.\u001b[0m\u001b[0mascontiguousarray\u001b[0m\u001b[1;33m(\u001b[0m\u001b[0mval\u001b[0m\u001b[1;33m)\u001b[0m\u001b[1;33m)\u001b[0m\u001b[1;33m\u001b[0m\u001b[1;33m\u001b[0m\u001b[0m\n\u001b[0m\u001b[0;32m    683\u001b[0m \u001b[1;33m\u001b[0m\u001b[0m\n\u001b[0;32m    684\u001b[0m                 \u001b[1;32melif\u001b[0m \u001b[0misinstance\u001b[0m\u001b[1;33m(\u001b[0m\u001b[0mval\u001b[0m\u001b[1;33m,\u001b[0m \u001b[1;33m(\u001b[0m\u001b[0mscipy\u001b[0m\u001b[1;33m.\u001b[0m\u001b[0msparse\u001b[0m\u001b[1;33m.\u001b[0m\u001b[0mcsr_matrix\u001b[0m\u001b[1;33m,\u001b[0m \u001b[0mscipy\u001b[0m\u001b[1;33m.\u001b[0m\u001b[0msparse\u001b[0m\u001b[1;33m.\u001b[0m\u001b[0mcsc_matrix\u001b[0m\u001b[1;33m)\u001b[0m\u001b[1;33m)\u001b[0m \u001b[1;32mand\u001b[0m \u001b[0mattrib\u001b[0m \u001b[1;32mnot\u001b[0m \u001b[1;32min\u001b[0m \u001b[0mignore\u001b[0m\u001b[1;33m:\u001b[0m\u001b[1;33m\u001b[0m\u001b[1;33m\u001b[0m\u001b[0m\n",
      "\u001b[1;32m<__array_function__ internals>\u001b[0m in \u001b[0;36msave\u001b[1;34m(*args, **kwargs)\u001b[0m\n",
      "\u001b[1;32mc:\\users\\hp\\miniconda3\\envs\\nlp_env\\lib\\site-packages\\numpy\\lib\\npyio.py\u001b[0m in \u001b[0;36msave\u001b[1;34m(file, arr, allow_pickle, fix_imports)\u001b[0m\n\u001b[0;32m    523\u001b[0m         \u001b[1;32mif\u001b[0m \u001b[1;32mnot\u001b[0m \u001b[0mfile\u001b[0m\u001b[1;33m.\u001b[0m\u001b[0mendswith\u001b[0m\u001b[1;33m(\u001b[0m\u001b[1;34m'.npy'\u001b[0m\u001b[1;33m)\u001b[0m\u001b[1;33m:\u001b[0m\u001b[1;33m\u001b[0m\u001b[1;33m\u001b[0m\u001b[0m\n\u001b[0;32m    524\u001b[0m             \u001b[0mfile\u001b[0m \u001b[1;33m=\u001b[0m \u001b[0mfile\u001b[0m \u001b[1;33m+\u001b[0m \u001b[1;34m'.npy'\u001b[0m\u001b[1;33m\u001b[0m\u001b[1;33m\u001b[0m\u001b[0m\n\u001b[1;32m--> 525\u001b[1;33m         \u001b[0mfile_ctx\u001b[0m \u001b[1;33m=\u001b[0m \u001b[0mopen\u001b[0m\u001b[1;33m(\u001b[0m\u001b[0mfile\u001b[0m\u001b[1;33m,\u001b[0m \u001b[1;34m\"wb\"\u001b[0m\u001b[1;33m)\u001b[0m\u001b[1;33m\u001b[0m\u001b[1;33m\u001b[0m\u001b[0m\n\u001b[0m\u001b[0;32m    526\u001b[0m \u001b[1;33m\u001b[0m\u001b[0m\n\u001b[0;32m    527\u001b[0m     \u001b[1;32mwith\u001b[0m \u001b[0mfile_ctx\u001b[0m \u001b[1;32mas\u001b[0m \u001b[0mfid\u001b[0m\u001b[1;33m:\u001b[0m\u001b[1;33m\u001b[0m\u001b[1;33m\u001b[0m\u001b[0m\n",
      "\u001b[1;31mFileNotFoundError\u001b[0m: [Errno 2] No such file or directory: 'D:\\\\NLP\\\\Frame_NLP\\\\W2VData\\\\word2vec.model.wv.vectors.npy'"
     ]
    }
   ],
   "source": [
    "# train the w2v model\n",
    "start = time.time()\n",
    "w2v_model.train(sentences, \n",
    "                total_examples=w2v_model.corpus_count, \n",
    "                epochs=101, \n",
    "                report_delay=1,\n",
    "                compute_loss = True, # set compute_loss = True\n",
    "                callbacks=[callback()]) # add the callback class\n",
    "end = time.time()\n",
    "\n",
    "\n",
    "print(\"elapsedtime in seconds :\"+ str(end - start))\n"
   ]
  },
  {
   "cell_type": "code",
   "execution_count": 21,
   "id": "ba3dd237-ddbd-481c-b6b2-1365dfa5ff17",
   "metadata": {},
   "outputs": [],
   "source": [
    "# save the word2vec model\n",
    "w2v_model.save('D:\\\\NLP\\\\Frame_NLP\\\\Data\\\\word2vec.model')"
   ]
  },
  {
   "cell_type": "code",
   "execution_count": 7,
   "id": "7501900f-e999-4b6f-8f8e-2cc6ca8d769f",
   "metadata": {},
   "outputs": [],
   "source": [
    "from gensim.models.callbacks import CallbackAny2Vec\n",
    "from gensim.models import Word2Vec"
   ]
  },
  {
   "cell_type": "code",
   "execution_count": 23,
   "id": "af96a185-7e5a-4206-8a54-33426865382d",
   "metadata": {},
   "outputs": [
    {
     "name": "stdout",
     "output_type": "stream",
     "text": [
      "Vocab size: 158997\n",
      "Top 3 words similar to pandemic: [('vaccines', 0.8467559814453125), ('treatments', 0.647587239742279), ('cure', 0.5781174302101135), ('remdesivir', 0.5651286840438843), ('trials', 0.5456909537315369), ('vaccination', 0.5382245779037476), ('drugs', 0.5374522805213928), ('drug', 0.5349460244178772), ('antiviral', 0.5318850874900818), ('therapies', 0.5300467610359192)]\n",
      "Top 3 words similar to vaccine: [('vaccines', 0.8467559814453125), ('treatments', 0.647587239742279), ('cure', 0.5781174302101135)]\n",
      "Similarity between covid and virus:0.6743506\n",
      "Similarity between socialdistance and lockdown:0.09896347\n"
     ]
    }
   ],
   "source": [
    "reloaded_w2v_model = Word2Vec.load('D:\\\\NLP\\\\Frame_NLP\\\\Data\\\\word2vec.model')\n",
    "words = list(reloaded_w2v_model.wv.index_to_key)\n",
    "print('Vocab size: '+str(len(words)))\n",
    "w1 = 'vaccine'\n",
    "print(\"Top 3 words similar to pandemic:\",\\\n",
    "      reloaded_w2v_model.wv.most_similar(positive = w1,topn =10))\n",
    "w1 = 'vaccine'\n",
    "print(\"Top 3 words similar to vaccine:\",\\\n",
    "      reloaded_w2v_model.wv.most_similar(positive = w1,topn =3))\n",
    "print(\"Similarity between covid and virus:\"+\\\n",
    "      str(reloaded_w2v_model.wv.similarity(w1=\"covid\",w2=\"virus\")))\n",
    "print(\"Similarity between socialdistance and lockdown:\"+\\\n",
    "      str(reloaded_w2v_model.wv.similarity(w1=\"socialdistance\",w2=\"lockdown\")))"
   ]
  },
  {
   "cell_type": "code",
   "execution_count": 21,
   "id": "e8ebfb49-5eb7-447f-abc3-058daa6e59c0",
   "metadata": {},
   "outputs": [
    {
     "name": "stdout",
     "output_type": "stream",
     "text": [
      "Vocab size: 158997\n",
      "Top 3 words similar to pandemic: [('cases', 0.5730964541435242), ('patient', 0.5552523732185364), ('fatality', 0.49511784315109253), ('infection', 0.41934072971343994), ('suspect', 0.41496190428733826), ('infections', 0.4120182394981384), ('death', 0.3853720724582672), ('test', 0.3796953558921814), ('swph', 0.37094423174858093), ('resident', 0.36973366141319275), ('ca\\xadse', 0.3694051206111908), ('casualty', 0.3658447563648224), ('diagnosis', 0.3646167814731598), ('suspected', 0.36166322231292725), ('incident', 0.36036238074302673), ('diagnoses', 0.35418954491615295), ('patients', 0.35163646936416626), ('outcome', 0.34564393758773804), ('offender', 0.3437351882457733), ('tricity’s', 0.3394487500190735), ('symptoms', 0.33709239959716797), ('victim', 0.3357071280479431), ('detected', 0.33392277359962463), ('person', 0.33344677090644836), ('incidence', 0.33258017897605896), ('r2tmc', 0.3320521414279938), ('symptom', 0.33146432042121887), ('chullickal', 0.32818353176116943), ('prognosis', 0.32592371106147766), ('miramichi', 0.3237982988357544)]\n",
      "Top 3 words similar to vaccine: [('outbreak', 0.7563018202781677), ('pandemic', 0.7181152701377869), ('crisis', 0.6212190389633179), ('disease', 0.5536016225814819), ('outbreaks', 0.5370239615440369), ('contagion', 0.5295962691307068), ('epidemics', 0.5105007290840149), ('infection', 0.4964148998260498), ('pandemics', 0.47835516929626465), ('pandemic’s', 0.4633534848690033)]\n",
      "Similarity between covid and virus:0.6743506\n",
      "Similarity between socialdistance and lockdown:0.09896347\n"
     ]
    }
   ],
   "source": [
    "words = list(reloaded_w2v_model.wv.index_to_key)\n",
    "print('Vocab size: '+str(len(words)))\n",
    "w1 = 'case'\n",
    "print(\"Top 3 words similar to pandemic:\",\\\n",
    "      reloaded_w2v_model.wv.most_similar(positive = w1,topn = 30))\n",
    "w1 = 'epidemic'\n",
    "print(\"Top 3 words similar to vaccine:\",\\\n",
    "      reloaded_w2v_model.wv.most_similar(positive = w1,topn = 10))\n",
    "print(\"Similarity between covid and virus:\"+\\\n",
    "      str(reloaded_w2v_model.wv.similarity(w1=\"covid\",w2=\"virus\")))\n",
    "print(\"Similarity between socialdistance and lockdown:\"+\\\n",
    "      str(reloaded_w2v_model.wv.similarity(w1=\"socialdistance\",w2=\"lockdown\")))"
   ]
  },
  {
   "cell_type": "code",
   "execution_count": 15,
   "id": "e303d786-cb4e-4cf4-845b-727a2df46a60",
   "metadata": {},
   "outputs": [
    {
     "name": "stdout",
     "output_type": "stream",
     "text": [
      "Vocab size: 158997\n",
      "Top 5 words similar to w1 [('pandemic', 0.9028194546699524), ('epidemic', 0.7563018798828125), ('crisis', 0.7130113840103149), ('shutdown', 0.5839642882347107), ('spread', 0.5731232166290283), ('novel', 0.5596203207969666), ('lockdowns', 0.5321853756904602), ('shutdowns', 0.521510124206543), ('outbreaks', 0.5190264582633972), ('lockdown', 0.5128319263458252)]\n",
      "Top 5 words similar to w1: [('covid', 0.9111222624778748), ('virus', 0.6774252653121948), ('virus’s', 0.4691252112388611), ('virus’', 0.45946434140205383), ('covid19', 0.4545608460903168), ('nationwide', 0.44572553038597107), ('worldwide', 0.40469226241111755), ('coronavirus’', 0.39840149879455566), ('“coronavirus', 0.38066521286964417), ('worsening', 0.37945571541786194)]\n",
      "Top 5 words similar to w1: [('pandemic', 0.9028194546699524), ('epidemic', 0.7563018798828125), ('crisis', 0.7130113840103149), ('shutdown', 0.5839642882347107), ('spread', 0.5731232166290283), ('novel', 0.5596203207969666), ('lockdowns', 0.5321853756904602), ('shutdowns', 0.521510124206543), ('outbreaks', 0.5190264582633972), ('lockdown', 0.5128319263458252)]\n",
      "Top 5 words similar to w1 [('isolation', 0.8075098991394043), ('quarantined', 0.7070853114128113), ('quarantining', 0.6573249101638794), ('isolate', 0.646477222442627), ('isolated', 0.6033411026000977), ('isolating', 0.5432880520820618), ('quarantines', 0.5357179641723633), ('lockdown', 0.5329166650772095), ('confinement', 0.4917154014110565), ('observation', 0.4760727882385254)]\n",
      "Top 5 words similar to w1 [('outbreak', 0.9028195142745972), ('crisis', 0.8505440354347229), ('epidemic', 0.7181152105331421), ('shutdown', 0.612087607383728), ('pandemic’s', 0.5266366600990295), ('lockdowns', 0.5166910290718079), ('shutdowns', 0.5124483108520508), ('lockdown', 0.5000839233398438), ('downturn', 0.49824944138526917), ('pandemic”', 0.4839284420013428)]\n"
     ]
    }
   ],
   "source": [
    "words = list(reloaded_w2v_model.wv.index_to_key)\n",
    "print('Vocab size: '+str(len(words)))\n",
    "w1 = 'outbreak'\n",
    "print(\"Top 5 words similar to w1\",\\\n",
    "      reloaded_w2v_model.wv.most_similar(positive = w1,topn = 10))\n",
    "w1 = 'coronavirus'\n",
    "print(\"Top 5 words similar to w1:\",\\\n",
    "      reloaded_w2v_model.wv.most_similar(positive = w1,topn = 10))\n",
    "w1 = 'outbreak'\n",
    "print(\"Top 5 words similar to w1:\",\\\n",
    "      reloaded_w2v_model.wv.most_similar(positive = w1,topn = 10))\n",
    "w1 = 'quarantine'\n",
    "print(\"Top 5 words similar to w1\",\\\n",
    "      reloaded_w2v_model.wv.most_similar(positive = w1,topn = 10))\n",
    "w1 = 'pandemic'\n",
    "print(\"Top 5 words similar to w1\",\\\n",
    "      reloaded_w2v_model.wv.most_similar(positive = w1,topn = 10))"
   ]
  },
  {
   "cell_type": "code",
   "execution_count": 26,
   "id": "42419ac4-294f-4dd1-980e-3800516a8791",
   "metadata": {},
   "outputs": [
    {
     "name": "stderr",
     "output_type": "stream",
     "text": [
      "c:\\users\\hp\\miniconda3\\envs\\nlp_env\\lib\\site-packages\\sklearn\\manifold\\_t_sne.py:780: FutureWarning: The default initialization in TSNE will change from 'random' to 'pca' in 1.2.\n",
      "  warnings.warn(\n",
      "c:\\users\\hp\\miniconda3\\envs\\nlp_env\\lib\\site-packages\\sklearn\\manifold\\_t_sne.py:790: FutureWarning: The default learning rate in TSNE will change from 200.0 to 'auto' in 1.2.\n",
      "  warnings.warn(\n"
     ]
    }
   ],
   "source": [
    "from sklearn.manifold import TSNE                   # final reduction\n",
    "import numpy as np                                  # array handling\n",
    "\n",
    "\n",
    "def reduce_dimensions(model):\n",
    "    num_dimensions = 2  # final num dimensions (2D, 3D, etc)\n",
    "\n",
    "    vectors = [] # positions in vector space\n",
    "    labels = [] # keep track of words to label our data again later\n",
    "    for word in model.wv.index_to_key:\n",
    "        vectors.append(model.wv[word])\n",
    "        labels.append(word)\n",
    "\n",
    "    # convert both lists into numpy vectors for reduction\n",
    "    vectors = np.asarray(vectors)\n",
    "    #labels = np.asarray(labels)\n",
    "\n",
    "    # reduce using t-SNE\n",
    "    vectors = np.asarray(vectors)\n",
    "    tsne = TSNE(n_components=num_dimensions, random_state=0)\n",
    "    vectors = tsne.fit_transform(vectors)\n",
    "\n",
    "    x_vals = [v[0] for v in vectors]\n",
    "    y_vals = [v[1] for v in vectors]\n",
    "    return x_vals, y_vals, labels\n",
    "\n",
    "\n",
    "x_vals, y_vals, labels = reduce_dimensions(reloaded_w2v_model)"
   ]
  },
  {
   "cell_type": "code",
   "execution_count": 29,
   "id": "2c24fb2b-fd05-45d3-a24e-44ced1b49be1",
   "metadata": {},
   "outputs": [
    {
     "data": {
      "image/png": "[encoded data removed]",
      "text/plain": [
       "<Figure size 864x864 with 1 Axes>"
      ]
     },
     "metadata": {
      "needs_background": "light"
     },
     "output_type": "display_data"
    }
   ],
   "source": [
    "def plot_with_matplotlib(x_vals, y_vals, labels):\n",
    "    import matplotlib.pyplot as plt\n",
    "    import random\n",
    "\n",
    "    random.seed(0)\n",
    "\n",
    "    plt.figure(figsize=(12, 12))\n",
    "    plt.scatter(x_vals, y_vals)\n",
    "\n",
    "    #\n",
    "    # Label randomly subsampled 25 data points\n",
    "    #\n",
    "    \n",
    "    \n",
    "    indices = list(range(len(labels)))\n",
    "    #selected_indices = random.sample(indices, 25)\n",
    "    selected_indices=[]\n",
    "    index = labels.index(\"coronavirus\")\n",
    "    selected_indices.append(index)\n",
    "    index = labels.index(\"pandemic\")\n",
    "    selected_indices.append(index)\n",
    "    index = labels.index(\"crisis\")\n",
    "    selected_indices.append(index)\n",
    "    index = labels.index(\"economy\")\n",
    "    selected_indices.append(index)\n",
    "    index = labels.index(\"covid\")\n",
    "    selected_indices.append(index)\n",
    "    index = labels.index(\"hospital\")\n",
    "    selected_indices.append(index)\n",
    "    index = labels.index(\"patients\")\n",
    "    selected_indices.append(index)\n",
    "    index = labels.index(\"vaccine\")\n",
    "    selected_indices.append(index)\n",
    "    \n",
    "    \n",
    "    for i in selected_indices:\n",
    "        plt.annotate(labels[i], (x_vals[i], y_vals[i]))\n",
    "\n",
    "\n",
    "\n",
    "plot_function = plot_with_matplotlib\n",
    "\n",
    "\n",
    "plot_function(x_vals, y_vals, labels)"
   ]
  },
  {
   "cell_type": "code",
   "execution_count": null,
   "id": "6422f2f0-59b0-4abc-9070-74993005e1f0",
   "metadata": {},
   "outputs": [],
   "source": []
  }
 ],
 "metadata": {
  "kernelspec": {
   "display_name": "Python 3 (ipykernel)",
   "language": "python",
   "name": "python3"
  },
  "language_info": {
   "codemirror_mode": {
    "name": "ipython",
    "version": 3
   },
   "file_extension": ".py",
   "mimetype": "text/x-python",
   "name": "python",
   "nbconvert_exporter": "python",
   "pygments_lexer": "ipython3",
   "version": "3.8.12"
  }
 },
 "nbformat": 4,
 "nbformat_minor": 5
}
